{
 "cells": [
  {
   "cell_type": "code",
   "execution_count": 1,
   "metadata": {},
   "outputs": [],
   "source": [
    "import numpy as np\n",
    "from sklearn.datasets import make_moons"
   ]
  },
  {
   "cell_type": "code",
   "execution_count": 10,
   "metadata": {},
   "outputs": [],
   "source": [
    "class Neural_Network:\n",
    "    def __init__(self,input_size,hidden_size,output_size):\n",
    "        self.input_size=input_size\n",
    "        self.hidden_size=hidden_size\n",
    "        self.output_size=output_size\n",
    "        self.w1=np.random.randn(hidden_size,input_size)*0.01\n",
    "        self.b1=np.zeros((hidden_size,1))\n",
    "        self.w2=np.random.randn(output_size,hidden_size)*0.01\n",
    "        self.b2=np.zeros((output_size,1))\n",
    "    def forward(self,X):\n",
    "        self.z1=np.dot(self.w1,X)+self.b1\n",
    "        self.a1=np.tanh(self.z1)\n",
    "        self.z2=np.dot(self.w2,self.a1)\n",
    "        self.a2=self.sigmoid(self.z2)\n",
    "        return self.a2\n",
    "    def sigmoid(self,Z):\n",
    "        return (1/(1+np.exp(-Z)))\n",
    "    def back(self,X,Y):\n",
    "        m=X.shape[1]\n",
    "        dz2=self.a2-Y\n",
    "        dw2=(1/m)*np.dot(dz2,self.a1.T)\n",
    "        db2=(1/m)*np.sum(dz2,axis=1,keepdims=True)\n",
    "        dz1=np.dot(self.w2.T,dz2)*(1-np.power(self.a1,2))\n",
    "        dw1=(1/m)*np.dot(dz1,X.T)\n",
    "        db1=(1/m)*np.sum(dz1,axis=1,keepdims=True)\n",
    "        self.w1-=dw1\n",
    "        self.w2-=dw2\n",
    "        self.b1-=db1\n",
    "        self.b2-=db2\n",
    "    def train(self,X,Y,num_epochs):\n",
    "        for epoch in range(num_epochs):\n",
    "            predictions=self.forward(X)\n",
    "            loss=self.pred_loss(predictions,Y)\n",
    "            self.back(X,Y)\n",
    "            if epoch%10 == 0:\n",
    "                print(f\"Epoch: {epoch} and loss:{loss}\")\n",
    "    def pred_loss(self,A,Y):\n",
    "        m=Y.shape[1]\n",
    "        return -(1/m)*np.sum(Y*np.log(A)+(1-Y)*np.log(1-A))"
   ]
  },
  {
   "cell_type": "code",
   "execution_count": 7,
   "metadata": {},
   "outputs": [],
   "source": [
    "X,Y=make_moons(n_samples=1000,noise=0.2,random_state=42)"
   ]
  },
  {
   "cell_type": "code",
   "execution_count": 8,
   "metadata": {},
   "outputs": [],
   "source": [
    "X=X.T"
   ]
  },
  {
   "cell_type": "code",
   "execution_count": 11,
   "metadata": {},
   "outputs": [
    {
     "name": "stdout",
     "output_type": "stream",
     "text": [
      "Epoch: 0 and loss:0.6930900316484452\n",
      "Epoch: 10 and loss:0.6723617932320671\n",
      "Epoch: 20 and loss:0.38724206214346235\n",
      "Epoch: 30 and loss:0.3127101471822505\n",
      "Epoch: 40 and loss:0.2968436653919001\n",
      "Epoch: 50 and loss:0.29344602369686457\n",
      "Epoch: 60 and loss:0.29257599810740736\n",
      "Epoch: 70 and loss:0.29222036286988373\n",
      "Epoch: 80 and loss:0.2919805415929999\n",
      "Epoch: 90 and loss:0.2917744581115494\n",
      "Epoch: 100 and loss:0.2915846044116936\n",
      "Epoch: 110 and loss:0.29140682209209884\n",
      "Epoch: 120 and loss:0.2912396990526552\n",
      "Epoch: 130 and loss:0.2910823937709601\n",
      "Epoch: 140 and loss:0.29093420430642214\n",
      "Epoch: 150 and loss:0.2907944885038841\n",
      "Epoch: 160 and loss:0.29066265026466515\n",
      "Epoch: 170 and loss:0.2905381363735952\n",
      "Epoch: 180 and loss:0.2904204342638884\n",
      "Epoch: 190 and loss:0.29030906955958097\n",
      "Epoch: 200 and loss:0.29020360349485863\n",
      "Epoch: 210 and loss:0.2901036303621201\n",
      "Epoch: 220 and loss:0.2900087750675802\n",
      "Epoch: 230 and loss:0.2899186908253439\n",
      "Epoch: 240 and loss:0.2898330569984855\n",
      "Epoch: 250 and loss:0.2897515770863271\n",
      "Epoch: 260 and loss:0.289673976853359\n",
      "Epoch: 270 and loss:0.2896000025937031\n",
      "Epoch: 280 and loss:0.28952941952432876\n",
      "Epoch: 290 and loss:0.28946201029989266\n",
      "Epoch: 300 and loss:0.2893975736419213\n",
      "Epoch: 310 and loss:0.28933592307503386\n",
      "Epoch: 320 and loss:0.2892768857629845\n",
      "Epoch: 330 and loss:0.2892203014374795\n",
      "Epoch: 340 and loss:0.28916602141296793\n",
      "Epoch: 350 and loss:0.28911390768090567\n",
      "Epoch: 360 and loss:0.2890638320773335\n",
      "Epoch: 370 and loss:0.2890156755179702\n",
      "Epoch: 380 and loss:0.2889693272953946\n",
      "Epoch: 390 and loss:0.2889246844332679\n",
      "Epoch: 400 and loss:0.2888816510929122\n",
      "Epoch: 410 and loss:0.28884013802791747\n",
      "Epoch: 420 and loss:0.2888000620827894\n",
      "Epoch: 430 and loss:0.28876134573196943\n",
      "Epoch: 440 and loss:0.2887239166558608\n",
      "Epoch: 450 and loss:0.2886877073507731\n",
      "Epoch: 460 and loss:0.28865265476995805\n",
      "Epoch: 470 and loss:0.2886186999931489\n",
      "Epoch: 480 and loss:0.28858578792223705\n",
      "Epoch: 490 and loss:0.2885538670009208\n",
      "Epoch: 500 and loss:0.28852288895634737\n",
      "Epoch: 510 and loss:0.28849280856093934\n",
      "Epoch: 520 and loss:0.2884635834127506\n",
      "Epoch: 530 and loss:0.2884351737328386\n",
      "Epoch: 540 and loss:0.28840754217827097\n",
      "Epoch: 550 and loss:0.28838065366949683\n",
      "Epoch: 560 and loss:0.28835447523092744\n",
      "Epoch: 570 and loss:0.28832897584366196\n",
      "Epoch: 580 and loss:0.2883041263093888\n",
      "Epoch: 590 and loss:0.2882798991245693\n",
      "Epoch: 600 and loss:0.28825626836409\n",
      "Epoch: 610 and loss:0.28823320957363197\n",
      "Epoch: 620 and loss:0.2882106996700717\n",
      "Epoch: 630 and loss:0.28818871684928266\n",
      "Epoch: 640 and loss:0.2881672405007586\n",
      "Epoch: 650 and loss:0.2881462511285257\n",
      "Epoch: 660 and loss:0.2881257302778565\n",
      "Epoch: 670 and loss:0.2881056604673347\n",
      "Epoch: 680 and loss:0.2880860251258592\n",
      "Epoch: 690 and loss:0.2880668085342053\n",
      "Epoch: 700 and loss:0.2880479957707964\n",
      "Epoch: 710 and loss:0.2880295726613609\n",
      "Epoch: 720 and loss:0.2880115257321808\n",
      "Epoch: 730 and loss:0.28799384216665713\n",
      "Epoch: 740 and loss:0.2879765097649423\n",
      "Epoch: 750 and loss:0.28795951690640686\n",
      "Epoch: 760 and loss:0.28794285251472673\n",
      "Epoch: 770 and loss:0.28792650602539605\n",
      "Epoch: 780 and loss:0.28791046735548176\n",
      "Epoch: 790 and loss:0.28789472687545425\n",
      "Epoch: 800 and loss:0.28787927538293917\n",
      "Epoch: 810 and loss:0.28786410407824814\n",
      "Epoch: 820 and loss:0.28784920454155655\n",
      "Epoch: 830 and loss:0.2878345687116081\n",
      "Epoch: 840 and loss:0.2878201888658325\n",
      "Epoch: 850 and loss:0.2878060576017758\n",
      "Epoch: 860 and loss:0.28779216781974437\n",
      "Epoch: 870 and loss:0.2877785127065772\n",
      "Epoch: 880 and loss:0.2877650857204644\n",
      "Epoch: 890 and loss:0.2877518805767353\n",
      "Epoch: 900 and loss:0.28773889123454943\n",
      "Epoch: 910 and loss:0.28772611188442304\n",
      "Epoch: 920 and loss:0.28771353693653423\n",
      "Epoch: 930 and loss:0.2877011610097508\n",
      "Epoch: 940 and loss:0.28768897892132955\n",
      "Epoch: 950 and loss:0.2876769856772418\n",
      "Epoch: 960 and loss:0.2876651764630799\n",
      "Epoch: 970 and loss:0.28765354663550524\n",
      "Epoch: 980 and loss:0.28764209171420113\n",
      "Epoch: 990 and loss:0.28763080737429536\n"
     ]
    }
   ],
   "source": [
    "Y=Y.reshape(1,-1)\n",
    "nn=Neural_Network(2,4,1)\n",
    "nn.train(X,Y,1000)"
   ]
  },
  {
   "cell_type": "code",
   "execution_count": 12,
   "metadata": {},
   "outputs": [
    {
     "name": "stdout",
     "output_type": "stream",
     "text": [
      "[[ 0.1600255  -0.59374335]\n",
      " [ 0.16353659 -0.60630275]\n",
      " [-0.158979    0.59157444]\n",
      " [ 0.15663299 -0.59130868]]\n"
     ]
    }
   ],
   "source": [
    "print(nn.w1)"
   ]
  },
  {
   "cell_type": "code",
   "execution_count": 13,
   "metadata": {},
   "outputs": [
    {
     "name": "stdout",
     "output_type": "stream",
     "text": [
      "[[ 2.19976708  1.45980343 -2.30722294  2.30238505]]\n"
     ]
    }
   ],
   "source": [
    "print(nn.w2)"
   ]
  },
  {
   "cell_type": "code",
   "execution_count": 14,
   "metadata": {},
   "outputs": [
    {
     "name": "stdout",
     "output_type": "stream",
     "text": [
      "[[ 0.04608527]\n",
      " [ 0.00887084]\n",
      " [-0.06166725]\n",
      " [ 0.10887552]] [[0.13324933]]\n"
     ]
    }
   ],
   "source": [
    "print(nn.b1,nn.b2)"
   ]
  },
  {
   "cell_type": "code",
   "execution_count": 15,
   "metadata": {},
   "outputs": [],
   "source": [
    "from planar_utils import load_planar_dataset,plot_decision_boundary\n",
    "from sklearn.linear_model import LogisticRegressionCV"
   ]
  },
  {
   "cell_type": "code",
   "execution_count": 16,
   "metadata": {},
   "outputs": [],
   "source": [
    "X,Y=load_planar_dataset()"
   ]
  },
  {
   "cell_type": "code",
   "execution_count": 17,
   "metadata": {},
   "outputs": [
    {
     "data": {
      "text/plain": [
       "(2, 400)"
      ]
     },
     "execution_count": 17,
     "metadata": {},
     "output_type": "execute_result"
    }
   ],
   "source": [
    "X.shape"
   ]
  },
  {
   "cell_type": "code",
   "execution_count": 18,
   "metadata": {},
   "outputs": [
    {
     "data": {
      "text/plain": [
       "(1, 400)"
      ]
     },
     "execution_count": 18,
     "metadata": {},
     "output_type": "execute_result"
    }
   ],
   "source": [
    "Y.shape"
   ]
  },
  {
   "cell_type": "code",
   "execution_count": 19,
   "metadata": {},
   "outputs": [
    {
     "name": "stdout",
     "output_type": "stream",
     "text": [
      "total training examples 400\n"
     ]
    }
   ],
   "source": [
    "print(\"total training examples\",Y.shape[1])"
   ]
  },
  {
   "cell_type": "code",
   "execution_count": 20,
   "metadata": {},
   "outputs": [],
   "source": [
    "clf=LogisticRegressionCV()"
   ]
  },
  {
   "cell_type": "code",
   "execution_count": 21,
   "metadata": {},
   "outputs": [
    {
     "name": "stderr",
     "output_type": "stream",
     "text": [
      "c:\\Users\\sanoo\\anaconda3\\Lib\\site-packages\\sklearn\\utils\\validation.py:1184: DataConversionWarning: A column-vector y was passed when a 1d array was expected. Please change the shape of y to (n_samples, ), for example using ravel().\n",
      "  y = column_or_1d(y, warn=True)\n"
     ]
    },
    {
     "data": {
      "text/html": [
       "<style>#sk-container-id-1 {color: black;}#sk-container-id-1 pre{padding: 0;}#sk-container-id-1 div.sk-toggleable {background-color: white;}#sk-container-id-1 label.sk-toggleable__label {cursor: pointer;display: block;width: 100%;margin-bottom: 0;padding: 0.3em;box-sizing: border-box;text-align: center;}#sk-container-id-1 label.sk-toggleable__label-arrow:before {content: \"▸\";float: left;margin-right: 0.25em;color: #696969;}#sk-container-id-1 label.sk-toggleable__label-arrow:hover:before {color: black;}#sk-container-id-1 div.sk-estimator:hover label.sk-toggleable__label-arrow:before {color: black;}#sk-container-id-1 div.sk-toggleable__content {max-height: 0;max-width: 0;overflow: hidden;text-align: left;background-color: #f0f8ff;}#sk-container-id-1 div.sk-toggleable__content pre {margin: 0.2em;color: black;border-radius: 0.25em;background-color: #f0f8ff;}#sk-container-id-1 input.sk-toggleable__control:checked~div.sk-toggleable__content {max-height: 200px;max-width: 100%;overflow: auto;}#sk-container-id-1 input.sk-toggleable__control:checked~label.sk-toggleable__label-arrow:before {content: \"▾\";}#sk-container-id-1 div.sk-estimator input.sk-toggleable__control:checked~label.sk-toggleable__label {background-color: #d4ebff;}#sk-container-id-1 div.sk-label input.sk-toggleable__control:checked~label.sk-toggleable__label {background-color: #d4ebff;}#sk-container-id-1 input.sk-hidden--visually {border: 0;clip: rect(1px 1px 1px 1px);clip: rect(1px, 1px, 1px, 1px);height: 1px;margin: -1px;overflow: hidden;padding: 0;position: absolute;width: 1px;}#sk-container-id-1 div.sk-estimator {font-family: monospace;background-color: #f0f8ff;border: 1px dotted black;border-radius: 0.25em;box-sizing: border-box;margin-bottom: 0.5em;}#sk-container-id-1 div.sk-estimator:hover {background-color: #d4ebff;}#sk-container-id-1 div.sk-parallel-item::after {content: \"\";width: 100%;border-bottom: 1px solid gray;flex-grow: 1;}#sk-container-id-1 div.sk-label:hover label.sk-toggleable__label {background-color: #d4ebff;}#sk-container-id-1 div.sk-serial::before {content: \"\";position: absolute;border-left: 1px solid gray;box-sizing: border-box;top: 0;bottom: 0;left: 50%;z-index: 0;}#sk-container-id-1 div.sk-serial {display: flex;flex-direction: column;align-items: center;background-color: white;padding-right: 0.2em;padding-left: 0.2em;position: relative;}#sk-container-id-1 div.sk-item {position: relative;z-index: 1;}#sk-container-id-1 div.sk-parallel {display: flex;align-items: stretch;justify-content: center;background-color: white;position: relative;}#sk-container-id-1 div.sk-item::before, #sk-container-id-1 div.sk-parallel-item::before {content: \"\";position: absolute;border-left: 1px solid gray;box-sizing: border-box;top: 0;bottom: 0;left: 50%;z-index: -1;}#sk-container-id-1 div.sk-parallel-item {display: flex;flex-direction: column;z-index: 1;position: relative;background-color: white;}#sk-container-id-1 div.sk-parallel-item:first-child::after {align-self: flex-end;width: 50%;}#sk-container-id-1 div.sk-parallel-item:last-child::after {align-self: flex-start;width: 50%;}#sk-container-id-1 div.sk-parallel-item:only-child::after {width: 0;}#sk-container-id-1 div.sk-dashed-wrapped {border: 1px dashed gray;margin: 0 0.4em 0.5em 0.4em;box-sizing: border-box;padding-bottom: 0.4em;background-color: white;}#sk-container-id-1 div.sk-label label {font-family: monospace;font-weight: bold;display: inline-block;line-height: 1.2em;}#sk-container-id-1 div.sk-label-container {text-align: center;}#sk-container-id-1 div.sk-container {/* jupyter's `normalize.less` sets `[hidden] { display: none; }` but bootstrap.min.css set `[hidden] { display: none !important; }` so we also need the `!important` here to be able to override the default hidden behavior on the sphinx rendered scikit-learn.org. See: https://github.com/scikit-learn/scikit-learn/issues/21755 */display: inline-block !important;position: relative;}#sk-container-id-1 div.sk-text-repr-fallback {display: none;}</style><div id=\"sk-container-id-1\" class=\"sk-top-container\"><div class=\"sk-text-repr-fallback\"><pre>LogisticRegressionCV()</pre><b>In a Jupyter environment, please rerun this cell to show the HTML representation or trust the notebook. <br />On GitHub, the HTML representation is unable to render, please try loading this page with nbviewer.org.</b></div><div class=\"sk-container\" hidden><div class=\"sk-item\"><div class=\"sk-estimator sk-toggleable\"><input class=\"sk-toggleable__control sk-hidden--visually\" id=\"sk-estimator-id-1\" type=\"checkbox\" checked><label for=\"sk-estimator-id-1\" class=\"sk-toggleable__label sk-toggleable__label-arrow\">LogisticRegressionCV</label><div class=\"sk-toggleable__content\"><pre>LogisticRegressionCV()</pre></div></div></div></div></div>"
      ],
      "text/plain": [
       "LogisticRegressionCV()"
      ]
     },
     "execution_count": 21,
     "metadata": {},
     "output_type": "execute_result"
    }
   ],
   "source": [
    "clf.fit(X.T,Y.T)"
   ]
  },
  {
   "cell_type": "code",
   "execution_count": 23,
   "metadata": {},
   "outputs": [
    {
     "data": {
      "image/png": "[encoded data removed]",
      "text/plain": [
       "<Figure size 640x480 with 1 Axes>"
      ]
     },
     "metadata": {},
     "output_type": "display_data"
    }
   ],
   "source": [
    "plot_decision_boundary(lambda x: clf.predict(x),X,Y)\n",
    "import matplotlib.pyplot as plt\n",
    "plt.title(\"Planar data classification\")\n",
    "plt.show()"
   ]
  },
  {
   "cell_type": "code",
   "execution_count": 25,
   "metadata": {},
   "outputs": [],
   "source": [
    "A=clf.predict(X.T)"
   ]
  },
  {
   "cell_type": "code",
   "execution_count": 26,
   "metadata": {},
   "outputs": [],
   "source": [
    "acc=float((np.dot(Y,A)+np.dot((1-Y),(1-A)))/float(Y.shape[1]))"
   ]
  },
  {
   "cell_type": "code",
   "execution_count": 27,
   "metadata": {},
   "outputs": [
    {
     "data": {
      "text/plain": [
       "0.47"
      ]
     },
     "execution_count": 27,
     "metadata": {},
     "output_type": "execute_result"
    }
   ],
   "source": [
    "acc"
   ]
  },
  {
   "cell_type": "code",
   "execution_count": 28,
   "metadata": {},
   "outputs": [
    {
     "name": "stdout",
     "output_type": "stream",
     "text": [
      "47.0\n"
     ]
    }
   ],
   "source": [
    "print(acc*100)"
   ]
  },
  {
   "cell_type": "code",
   "execution_count": null,
   "metadata": {},
   "outputs": [],
   "source": []
  }
 ],
 "metadata": {
  "kernelspec": {
   "display_name": "base",
   "language": "python",
   "name": "python3"
  },
  "language_info": {
   "codemirror_mode": {
    "name": "ipython",
    "version": 3
   },
   "file_extension": ".py",
   "mimetype": "text/x-python",
   "name": "python",
   "nbconvert_exporter": "python",
   "pygments_lexer": "ipython3",
   "version": "3.11.5"
  }
 },
 "nbformat": 4,
 "nbformat_minor": 2
}
