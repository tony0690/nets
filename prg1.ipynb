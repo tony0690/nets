{
 "cells": [
  {
   "cell_type": "code",
   "execution_count": 1,
   "metadata": {},
   "outputs": [],
   "source": [
    "import numpy as np"
   ]
  },
  {
   "cell_type": "code",
   "execution_count": 2,
   "metadata": {},
   "outputs": [],
   "source": [
    "class logisticRegression:\n",
    "    def __init__(self,input_size,hidden_size,output_size):\n",
    "        self.input_size=input_size\n",
    "        self.hidden_size=hidden_size\n",
    "        self.output_size=output_size\n",
    "        self.w1=np.random.randn(hidden_size,input_size)*0.01\n",
    "        self.b1=np.zeros((hidden_size,1))\n",
    "        self.w2=np.random.randn(output_size,hidden_size)*0.01\n",
    "        self.b2=np.zeros((output_size,1))\n",
    "    def forward_propogate(self,X):\n",
    "        self.z1=np.dot(self.w1,X)+self.b1\n",
    "        self.a1=np.tanh(self.z1)\n",
    "        self.z2=np.dot(self.w2,self.a1)\n",
    "        self.a2=self.sigmoid(self.z2)\n",
    "        return self.a2\n",
    "    def back_propogate(self,X,Y):\n",
    "        m=X.shape[1]\n",
    "        dz2=self.a2-Y\n",
    "        dw2=(1/m)*np.dot(dz2,self.a1.T)\n",
    "        db2=(1/m)*np.sum(dz2,axis=1,keepdims=True)\n",
    "        dz1=np.dot(self.w2.T,dz2)*(1-np.power(self.a1,2))\n",
    "        dw1=(1/m)*np.dot(dz1,X.T)\n",
    "        db1=(1/m)*np.sum(dz1,axis=1,keepdims=True)\n",
    "        self.w1-=dw1\n",
    "        self.w2-=dw2\n",
    "        self.b1-=db1\n",
    "        self.b2-=db2\n",
    "    def sigmoid(self,Z):\n",
    "        return (1/(1+np.exp(-Z)))\n",
    "    def loss(self,Y,A):\n",
    "        m=Y.shape[1]\n",
    "        return -(1/m)*np.sum(Y*np.log(A)+(1-Y)*np.log(1-A))\n",
    "    def train(self,X,Y,num_epochs):\n",
    "        for epoch in range(num_epochs):\n",
    "            predictions=self.forward_propogate(X)\n",
    "            loss=self.loss(Y,predictions)\n",
    "            self.back_propogate(X,Y)\n",
    "            if epoch%10 == 0:\n",
    "                print(f\"Epoch: {epoch} Loss: {loss}\")\n"
   ]
  },
  {
   "cell_type": "code",
   "execution_count": 3,
   "metadata": {},
   "outputs": [],
   "source": [
    "X=np.array([[0,0],[0,1],[1,0],[1,1]])\n",
    "Y=np.array([0,1,1,0])\n",
    "X=X.T\n",
    "Y=Y.reshape(1,-1)\n",
    "nn=logisticRegression(2,4,1)"
   ]
  },
  {
   "cell_type": "code",
   "execution_count": 6,
   "metadata": {},
   "outputs": [
    {
     "name": "stdout",
     "output_type": "stream",
     "text": [
      "Epoch: 0 Loss: 0.6931471799732735\n",
      "Epoch: 10 Loss: 0.6931471799706539\n",
      "Epoch: 20 Loss: 0.6931471799680358\n",
      "Epoch: 30 Loss: 0.693147179965419\n",
      "Epoch: 40 Loss: 0.6931471799628032\n",
      "Epoch: 50 Loss: 0.6931471799601886\n",
      "Epoch: 60 Loss: 0.6931471799575754\n",
      "Epoch: 70 Loss: 0.6931471799549633\n",
      "Epoch: 80 Loss: 0.6931471799523525\n",
      "Epoch: 90 Loss: 0.693147179949743\n"
     ]
    }
   ],
   "source": [
    "nn.train(X,Y,100)"
   ]
  },
  {
   "cell_type": "code",
   "execution_count": null,
   "metadata": {},
   "outputs": [],
   "source": [
    "\n"
   ]
  }
 ],
 "metadata": {
  "kernelspec": {
   "display_name": "Python 3",
   "language": "python",
   "name": "python3"
  },
  "language_info": {
   "codemirror_mode": {
    "name": "ipython",
    "version": 3
   },
   "file_extension": ".py",
   "mimetype": "text/x-python",
   "name": "python",
   "nbconvert_exporter": "python",
   "pygments_lexer": "ipython3",
   "version": "3.8.0"
  }
 },
 "nbformat": 4,
 "nbformat_minor": 2
}
